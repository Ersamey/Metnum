{
  "nbformat": 4,
  "nbformat_minor": 0,
  "metadata": {
    "colab": {
      "provenance": []
    },
    "kernelspec": {
      "name": "python3",
      "display_name": "Python 3"
    },
    "language_info": {
      "name": "python"
    }
  },
  "cells": [
    {
      "cell_type": "code",
      "execution_count": 3,
      "metadata": {
        "colab": {
          "base_uri": "https://localhost:8080/"
        },
        "id": "q1RmEfRiD06L",
        "outputId": "b30c304f-9a3a-451f-aff8-bc4ab021c9e1"
      },
      "outputs": [
        {
          "output_type": "stream",
          "name": "stdout",
          "text": [
            "Masukkan batas bawah integral (a): 0\n",
            "Masukkan batas atas integral (b): 1\n",
            "Masukkan banyak interval (n): 8\n",
            "Masukkan fungsi f(x): 1/(1+x)\n",
            "Lebar pias (h): 0.125\n",
            "\n",
            "Tabel Nilai x dan f(x) pada Rentang [0.0, 1.0]:\n",
            "------------------------------\n",
            "Nilai x    Nilai f(x)\n",
            "------------------------------\n",
            "0.062      0.941     \n",
            "0.188      0.842     \n",
            "0.312      0.762     \n",
            "0.438      0.696     \n",
            "0.562      0.640     \n",
            "0.688      0.593     \n",
            "0.812      0.552     \n",
            "0.938      0.516     \n",
            "\n",
            "Hasil Integral Titik Tengah: 0.693\n"
          ]
        }
      ],
      "source": [
        "def titik_tengah(a, b, n, f):\n",
        "    h = (b - a) / n\n",
        "    print(\"Lebar pias (h):\", h)  # Menampilkan lebar pias (h)\n",
        "    integral = 0\n",
        "\n",
        "    for i in range(n):\n",
        "        titik_tengah = a + (h / 2) + i * h #menghitung titik tengah dari setiap subinterval\n",
        "        integral += f(titik_tengah) #menambahkan fungsi nilai pada titik tengah subinterval ke integral\n",
        "\n",
        "    integral *= h\n",
        "    return integral\n",
        "\n",
        "a = float(input(\"Masukkan batas bawah integral (a): \"))  # Input batas bawah integral, contoh: 0\n",
        "b = float(input(\"Masukkan batas atas integral (b): \"))  # Input batas atas integral, contoh: 1\n",
        "n = int(input(\"Masukkan banyak interval (n): \"))  # Banyaknya interval, contoh: 8\n",
        "\n",
        "expression = input(\"Masukkan fungsi f(x): \")  # Input fungsi, contoh: 1/(1+x)\n",
        "f = lambda x: eval(expression)\n",
        "\n",
        "hasil_integral = titik_tengah(a, b, n, f)\n",
        "hasil_rounded = round(hasil_integral, 3)  # Bulatkan ke tiga angka di belakang koma\n",
        "\n",
        "# Membuat tabel untuk nilai x dan nilai fungsi f(x) pada titik-titik di dalam rentang [a, b]\n",
        "print(\"\\nTabel Nilai x dan f(x) pada Rentang [{}, {}]:\".format(a, b))\n",
        "print(\"-\" * 30)\n",
        "print(\"{:<10} {:<10}\".format(\"Nilai x\", \"Nilai f(x)\"))  # Print judul nilai x dan nilai f(x)\n",
        "print(\"-\" * 30)\n",
        "h = (b - a) / n  # Hitung ulang h sesuai batas bawah, batas atas, dan jumlah interval\n",
        "for i in range(n):\n",
        "    titik_tengah = a + (h / 2) + i * h  # Hitung nilai x titik tengah berdasarkan interval\n",
        "    nilai_f_x = f(titik_tengah)\n",
        "    print(\"{:<10.3f} {:<10.3f}\".format(titik_tengah, nilai_f_x))  # Print nilai hasil x dan f(x)\n",
        "\n",
        "print(\"\\nHasil Integral Titik Tengah: {:.3f}\".format(hasil_rounded))  # Menampilkan hasil integral dengan metode titik tengah\n"
      ]
    }
  ]
}