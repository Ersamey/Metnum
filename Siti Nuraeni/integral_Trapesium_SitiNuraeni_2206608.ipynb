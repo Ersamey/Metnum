{
  "nbformat": 4,
  "nbformat_minor": 0,
  "metadata": {
    "colab": {
      "provenance": []
    },
    "kernelspec": {
      "name": "python3",
      "display_name": "Python 3"
    },
    "language_info": {
      "name": "python"
    }
  },
  "cells": [
    {
      "cell_type": "code",
      "execution_count": 1,
      "metadata": {
        "colab": {
          "base_uri": "https://localhost:8080/"
        },
        "id": "Pr-FRrVf-5sk",
        "outputId": "93d1eab6-49ac-4c13-8a0b-7c8df2790f7c"
      },
      "outputs": [
        {
          "output_type": "stream",
          "name": "stdout",
          "text": [
            "masukan batas bawah integral (a): 0\n",
            "masukan batas atas integral (b): 1\n",
            "masukan banyak interval (n): 8\n",
            "Masukkan fungsi f(x): 1/(1+x)\n",
            "lebar pias (h): 0.125\n",
            "f(a) + f(b): 1.5\n",
            "x ke- 1 : 0.125\n",
            "x ke- 2 : 0.25\n",
            "x ke- 3 : 0.375\n",
            "x ke- 4 : 0.5\n",
            "x ke- 5 : 0.625\n",
            "x ke- 6 : 0.75\n",
            "x ke- 7 : 0.875\n",
            "Hasil integral numerik: 0.6941218503718504\n"
          ]
        }
      ],
      "source": [
        "def trapesium(a, b, n, f):\n",
        "    h = (b - a) / n  # lebar pias\n",
        "    print(\"lebar pias (h):\", h)\n",
        "    x = a  # awal selang integrasi\n",
        "    I = f(a) + f(b) #inisialisasi integral\n",
        "    print(\"f(a) + f(b):\", I)\n",
        "    sigma = 0\n",
        "\n",
        "    for _ in range(1, n):\n",
        "        x = x + h #menghitung nilai x dengan menambhakan panjang interval h\n",
        "        print(\"x ke-\", _, \":\", x) #menampilkan nilai x pada setiap iterasi\n",
        "        sigma = sigma + 2 * f(x) #menambahkan 2* f(x) ke dalam sigma\n",
        "\n",
        "    I = (I + sigma) * h / 2  # nilai integrasi numerik\n",
        "    return I\n",
        "\n",
        "a = float(input(\"masukan batas bawah integral (a): \")) #input batas bawah contoh 0\n",
        "b = float(input(\"masukan batas atas integral (b): \")) #input batas atas contoh 1\n",
        "n = int(input(\"masukan banyak interval (n): \")) #input banayak interval contoh 8\n",
        "\n",
        "expression = input(\"Masukkan fungsi f(x): \") # Input fungsi contoh 1(1+x)\n",
        "f = lambda x: eval(expression)\n",
        "\n",
        "result = trapesium(a, b, n, f) # Memanggil fungsi trapesium\n",
        "print(\"Hasil integral numerik:\", result) #hasil integral dengan trapesium"
      ]
    }
  ]
}