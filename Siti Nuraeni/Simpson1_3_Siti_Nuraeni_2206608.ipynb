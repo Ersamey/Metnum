{
  "nbformat": 4,
  "nbformat_minor": 0,
  "metadata": {
    "colab": {
      "provenance": []
    },
    "kernelspec": {
      "name": "python3",
      "display_name": "Python 3"
    },
    "language_info": {
      "name": "python"
    }
  },
  "cells": [
    {
      "cell_type": "code",
      "source": [
        "def simpson_satupertiga(a, b, n, f):\n",
        "    h = (b - a) / n\n",
        "    print(\"Lebar pias (h):\", h) #menampilkan h\n",
        "    integral = f(a) + f(b)\n",
        "\n",
        "    for i in range(1, n):\n",
        "        x = a + i * h\n",
        "        if i % 2 == 0:\n",
        "            integral += 2 * f(x)\n",
        "        else:\n",
        "            integral += 4 * f(x)\n",
        "\n",
        "    integral *= h / 3\n",
        "    return integral\n",
        "\n",
        "a = float(input(\"Masukkan batas bawah integral (a): \")) #input batas bawah integral contoh 0\n",
        "b = float(input(\"Masukkan batas atas integral (b): \")) #input abtas atas integral contoh 1\n",
        "n = int(input(\"Masukkan banyak interval (n): \")) #banyaknya interval contoh 8\n",
        "\n",
        "expression = input(\"Masukkan fungsi f(x): \")  # Input fungsi 1/(1+x)\n",
        "f = lambda x: eval(expression)\n",
        "\n",
        "hasil_integral = simpson_satupertiga(a, b, n, f)\n",
        "hasil_rounded = round(hasil_integral, 3)  # Bulatkan ke tiga angka di belakang koma\n",
        "\n",
        "# Membuat tabel untuk nilai x dan nilai fungsi f(x) pada titik-titik di dalam rentang [a, b]\n",
        "print(\"\\nTabel Nilai x dan f(x) pada Rentang [{}, {}]:\".format(a, b))\n",
        "print(\"-\" * 30)\n",
        "print(\"{:<10} {:<10}\".format(\"Nilai x\", \"Nilai f(x)\")) #print judul nilai x dan nilai f(x)\n",
        "print(\"-\" * 30)\n",
        "h = (b - a) / n  # Hitung ulang h sesuai batas bawah, batas atas, dan jumlah interval\n",
        "for i in range(n + 1):\n",
        "    x = i * h  # Hitung nilai x dengan benar berdasarkan interval\n",
        "    nilai_f_x = f(x)\n",
        "    print(\"{:<10.3f} {:<10.3f}\".format(x, nilai_f_x)) #print nilai hasil x dan f(x)\n",
        "\n",
        "print(\"\\nHasil Simpson 1/3: {:.3f}\".format(hasil_rounded))#menampilkan hasil integral dengan Simpon 1/3 sesuai yang diminta dengan dibulatkan menjadi 3 angka dibelakang koma\n"
      ],
      "metadata": {
        "colab": {
          "base_uri": "https://localhost:8080/"
        },
        "id": "JnNSpnaIwTxh",
        "outputId": "ec7989ea-7c5a-49a9-c763-b292d85db008"
      },
      "execution_count": 2,
      "outputs": [
        {
          "output_type": "stream",
          "name": "stdout",
          "text": [
            "Masukkan batas bawah integral (a): 0\n",
            "Masukkan batas atas integral (b): 1\n",
            "Masukkan banyak interval (n): 8\n",
            "Masukkan fungsi f(x): 1/(1+x)\n",
            "Lebar pias (h): 0.125\n",
            "\n",
            "Tabel Nilai x dan f(x) pada Rentang [0.0, 1.0]:\n",
            "------------------------------\n",
            "Nilai x    Nilai f(x)\n",
            "------------------------------\n",
            "0.000      1.000     \n",
            "0.125      0.889     \n",
            "0.250      0.800     \n",
            "0.375      0.727     \n",
            "0.500      0.667     \n",
            "0.625      0.615     \n",
            "0.750      0.571     \n",
            "0.875      0.533     \n",
            "1.000      0.500     \n",
            "\n",
            "Hasil Simpson 1/3: 0.693\n"
          ]
        }
      ]
    }
  ]
}