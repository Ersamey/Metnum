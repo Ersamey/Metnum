{
  "nbformat": 4,
  "nbformat_minor": 0,
  "metadata": {
    "colab": {
      "provenance": []
    },
    "kernelspec": {
      "name": "python3",
      "display_name": "Python 3"
    },
    "language_info": {
      "name": "python"
    }
  },
  "cells": [
    {
      "cell_type": "code",
      "execution_count": null,
      "metadata": {
        "id": "uEoCfMEiV1X7"
      },
      "outputs": [],
      "source": [
        "# Fungsi untuk menghitung turunan pertama dengan pendekatan selisih-maju\n",
        "def fAksen_maju(f0, fx1, h):\n",
        "    return (fx1 - f0) / h\n",
        "\n",
        "# Fungsi untuk menghitung turunan pertama dengan pendekatan selisih-mundur\n",
        "def fAksen_mundur(f0, fx_1, h):\n",
        "    return (f0 - fx_1) / h\n",
        "\n",
        "# Fungsi untuk menghitung turunan pertama dengan pendekatan selisih-pusat\n",
        "def fAksen_pusat(f1, f_1, h):\n",
        "    return (f1 - f_1) / (2 * h)\n",
        "\n",
        "# Lakukan perulangan menu\n",
        "while True:\n",
        " # menampilkan menu pilihan metode\n",
        " print(\"Pilih metode:\")\n",
        " print(\"1. Selisih Maju\")\n",
        " print(\"2. Selisih Mundur\")\n",
        " print(\"3. Selisih Pusat\")\n",
        " print(\"4. Keluar\")\n",
        " metode = int(input(\"Masukkan pilihan: \"))\n",
        " if metode == 1: #jika metode yang dipilih = 1\n",
        "  print(\"Metode yang dipilih: Selisih Maju\")\n",
        "  # input x0, f(x0), dan h\n",
        "  x0 = float(input(\"Masukkan x0: \"))\n",
        "  fx0 = float(input(\"Masukkan f(x0): \"))\n",
        "  h = float(input(\"Masukkan h: \"))\n",
        "  # input x1 dan f(x1)\n",
        "  x1 = float(input(\"Masukkan x1: \"))\n",
        "  fx1 = float(input(\"Masukkan f(x1): \"))\n",
        "  # hitung turunan pertama dengan pendekatan selisih-maju\n",
        "  fAksen = fAksen_maju(fx0, fx1, h)\n",
        "  # tampilkan hasil\n",
        "  print(\"f'(x) = \", fAksen)\n",
        " elif metode == 2: #lainnya jika yang dipilih metode =2\n",
        "  print(\"Metode yang dipilih: Selisih Mundur\")\n",
        "  # input x0, f(x0), dan h\n",
        "  x0 = float(input(\"Masukkan x0: \"))\n",
        "  fx0 = float(input(\"Masukkan f(x0): \"))\n",
        "  h = float(input(\"Masukkan h: \"))\n",
        "  # input x1 dan f(x1)\n",
        "  x_1 = float(input(\"Masukkan x-1: \"))\n",
        "  fx_1 = float(input(\"Masukkan f(x-1): \"))\n",
        "  # hitung turunan pertama dengan pendekatan selisih-mundur\n",
        "  fAksen = fAksen_mundur(fx0, fx_1, h)\n",
        "  # tampilkan hasil\n",
        "  print(\"f'(x) = \", fAksen)\n",
        " elif metode == 3: # lainnya jika yang dipilih metode = 3\n",
        "  print(\"Metode yang dipilih: Selisih Pusat\")\n",
        "  # input x1, f(x1), dan h\n",
        "  x1 = float(input(\"Masukkan x1: \"))\n",
        "  fx1 = float(input(\"Masukkan f(x1): \"))\n",
        "  h = float(input(\"Masukkan h: \"))\n",
        "  # input x_1 dan f(x_1)\n",
        "  x_1 = float(input(\"Masukkan x-1: \"))\n",
        "  fx_1 = float(input(\"Masukkan f(x-1): \"))\n",
        "  # hitung turunan pertama dengan pendekatan selisih-pusat\n",
        "  fAksen = fAksen_pusat(fx1, fx_1, h)\n",
        "  # tampilkan hasil\n",
        "  print(\"f'(x) = \", fAksen)\n",
        " elif metode == 4:\n",
        "  break #keluar dari loop jika dipilih opsi 4\n"
      ]
    }
  ]
}