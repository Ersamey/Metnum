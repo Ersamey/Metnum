{
  "nbformat": 4,
  "nbformat_minor": 0,
  "metadata": {
    "colab": {
      "provenance": []
    },
    "kernelspec": {
      "name": "python3",
      "display_name": "Python 3"
    },
    "language_info": {
      "name": "python"
    }
  },
  "cells": [
    {
      "cell_type": "code",
      "execution_count": null,
      "metadata": {
        "id": "kezT4D_1wdwC"
      },
      "outputs": [],
      "source": [
        "import numpy as np\n",
        "#fungsi jalanLU untuk faktorisasi LU\n",
        "def jalanLU(A,b):\n",
        "    n = len(A)\n",
        "    L = np.zeros((n,n))\n",
        "    for i in range(n):\n",
        "        L[i][i] = 1\n",
        "\n",
        "    for k in range(n-1):\n",
        "      #pertukaran baris jika elemen diagonal utama adalah nol\n",
        "        if A[k][k] == 0:\n",
        "            for s in range(n):\n",
        "                v = A[k][s]\n",
        "                u = A[k+1][s]\n",
        "                A[k][s] = u\n",
        "                A[k+1][s] = v\n",
        "\n",
        "        for j in range(k+1,n):\n",
        "            m = A[j][k]/A[k][k]\n",
        "            L[j][k] = m\n",
        "            for i in range(n):\n",
        "                A[j][i] = A[j][i] - m*A[k][i]\n",
        "\n",
        "    print('Matriks L')\n",
        "    print(L)\n",
        "\n",
        "    print('Matriks U')\n",
        "    print(A) # A itu sebagai U\n",
        "\n",
        "  #mencari vektor y\n",
        "    y = np.zeros((n,1))\n",
        "    y[0][0] = b[0][0]/L[0][0]\n",
        "    for j in range(1,n):\n",
        "        S = 0\n",
        "        for i in range(j):\n",
        "            S = S + y[i][0]*L[j][i]\n",
        "        y[j][0] = b[j][0] - S\n",
        "  #mencari solusi vektor x\n",
        "    x = np.zeros((n,1))\n",
        "    x[n-1][0] = y[n-1][0]/A[n-1][n-1]\n",
        "    for j in range(n-2,-1,-1):\n",
        "        S = 0\n",
        "        for i in range(j+1,n):\n",
        "            S = S + A[j][i]*x[i][0]\n",
        "        x[j][0] = (y[j][0] - S)/A[j][j]\n",
        "  #mencetak solusi\n",
        "    print('Solusi:\\n')\n",
        "    for i in range(n):\n",
        "        print(f'X{i+1} = {x[i]}')\n",
        "\n",
        "# Meminta input matriks A dari user\n",
        "A = []\n",
        "n = int(input(\"Masukkan ukuran matriks (n x n): \"))\n",
        "print(f\"Masukkan elemen-elemen matriks A ({n}x{n}):\")\n",
        "for i in range(n):\n",
        "    row = []\n",
        "    for j in range(n):\n",
        "        elem = float(input(f\"A[{i+1}][{j+1}]: \"))\n",
        "        row.append(elem) #membentuk satu persatu baris dari matriks A\n",
        "    A.append(row) #dari baris demi baris membentuk suatu matriks A\n",
        "\n",
        "# Meminta input matriks b dari user\n",
        "b = []\n",
        "print(\"Masukkan elemen-elemen matriks B:\")\n",
        "for i in range(n):\n",
        "    elem = float(input(f\"B[{i+1}]: \"))\n",
        "    b.append([elem])\n",
        "\n",
        "\n",
        "# Memanggil fungsi jalanLU matriks A dan b yang diinput oleh user\n",
        "jalanLU(np.array(A), np.array(b))"
      ]
    }
  ]
}