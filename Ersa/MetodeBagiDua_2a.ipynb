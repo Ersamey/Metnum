{
  "nbformat": 4,
  "nbformat_minor": 0,
  "metadata": {
    "colab": {
      "provenance": []
    },
    "kernelspec": {
      "name": "python3",
      "display_name": "Python 3"
    },
    "language_info": {
      "name": "python"
    }
  },
  "cells": [
    {
      "cell_type": "code",
      "execution_count": 3,
      "metadata": {
        "colab": {
          "base_uri": "https://localhost:8080/"
        },
        "id": "oZXSr0eVkcFm",
        "outputId": "95451023-a89c-4e8d-f67d-e7acaa689b9b"
      },
      "outputs": [
        {
          "output_type": "stream",
          "name": "stdout",
          "text": [
            "r1 = -1.5625\n",
            "f(r1) = 0.310302734375\n"
          ]
        }
      ],
      "source": [
        "import numpy as np #panggil library\n",
        "# Definisikan fungsi my_bisection dengan parameter f (fungsi), a (batas bawah), b (batas atas), e (ketelitian), iterasi (iterasi saat ini), dan iterasimax (maksimum iterasi).\n",
        "def my_bisection(f, a, b, e, iterasi=0, iterasimax=3):\n",
        "    if np.sign(f(a)) == np.sign(f(b)):# Cek apakah tanda (sign) dari f(a) sama dengan tanda dari f(b). Jika sama, lempar pengecualian (Exception).\n",
        "        raise Exception('Tidak ada akar pada interval a dan b')  # Maka tidak ada akar dalam interval.\n",
        "    c = (a + b) / 2 # Hitung titik tengah interval (c)\n",
        "    if np.abs(f(c)) < e or iterasi >= iterasimax: # Jika nilai absolut dari f(c) kurang dari ketelitian (e) atau iterasi melebihi maksimum iterasi (iterasimax),\n",
        "        return c # maka kembalikan c sebagai akar yang ditemukan.\n",
        "    if np.sign(f(a)) == np.sign(f(c)): # Jika tanda dari f(a) sama dengan tanda dari f(c)\n",
        "        return my_bisection(f, c, b, e, iterasi+1, iterasimax) # Maka cari akar di interval (c, b).\n",
        "    elif np.sign(f(b)) == np.sign(f(c)): # Jika tanda dari f(b) sama dengan tanda dari f(c),\n",
        "        return my_bisection(f, a, c, e, iterasi+1, iterasimax) # Maka cari akar di interval (a, c).\n",
        "\n",
        "f = lambda x: x**3 - 2*x + 1 #membuat fungsi f\n",
        "\n",
        "r1 = my_bisection(f, -2, -1, 0.01)# Hitung akar menggunakan metode bisection\n",
        "print(\"r1 =\", r1) #print akar hampirannya\n",
        "print(\"f(r1) =\", f(r1))"
      ]
    }
  ]
}
