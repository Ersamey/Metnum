{
  "nbformat": 4,
  "nbformat_minor": 0,
  "metadata": {
    "colab": {
      "provenance": []
    },
    "kernelspec": {
      "name": "python3",
      "display_name": "Python 3"
    },
    "language_info": {
      "name": "python"
    }
  },
  "cells": [
    {
      "cell_type": "code",
      "execution_count": null,
      "metadata": {
        "id": "us2lnoArffym"
      },
      "outputs": [],
      "source": [
        "import numpy as np #panggil library\n",
        "# Definisikan fungsi my_bisection dengan parameter f (fungsi), a (batas bawah), b (batas atas), e (ketelitian), iterasi (iterasi saat ini), dan iterasimax (maksimum iterasi).\n",
        "def my_bisection(f, a, b, e, iterasi=0, iterasimax=3):\n",
        "    if np.sign(f(a)) == np.sign(f(b)):# Cek apakah tanda (sign) dari f(a) sama dengan tanda dari f(b). Jika sama, lempar pengecualian (Exception).\n",
        "        raise Exception('Tidak ada akar pada interval a dan b')  # Maka tidak ada akar dalam interval.\n",
        "    c = (a + b) / 2 # Hitung titik tengah interval (c)\n",
        "    if np.abs(f(c)) < e or iterasi >= iterasimax: # Jika nilai absolut dari f(c) kurang dari ketelitian (e) atau iterasi melebihi maksimum iterasi (iterasimax),\n",
        "        return c # maka kembalikan c sebagai akar yang ditemukan.\n",
        "    if np.sign(f(a)) == np.sign(f(c)): # Jika tanda dari f(a) sama dengan tanda dari f(c)\n",
        "        return my_bisection(f, c, b, e, iterasi+1, iterasimax) # Maka cari akar di interval (c, b).\n",
        "    elif np.sign(f(b)) == np.sign(f(c)): # Jika tanda dari f(b) sama dengan tanda dari f(c),\n",
        "        return my_bisection(f, a, c, e, iterasi+1, iterasimax) # Maka cari akar di interval (a, c).\n",
        "\n",
        "expression = input(\"Masukkan fungsi f(x): \") # Input fungsi dari pengguna\n",
        "f = lambda x: eval(expression) # Membuat fungsi lambda dari ekspresi yang dimasukkan pengguna.\n",
        "\n",
        "# Input interval akar dan galat dari pengguna\n",
        "a = float(input(\"Masukkan batas awal (a): \"))\n",
        "b = float(input(\"Masukkan batas akhir (b): \"))\n",
        "e = float(input(\"Masukkan galat (e): \"))\n",
        "iterasimax = int(input(\"Masukkan maksimum iterasi: \"))\n",
        "\n",
        "# Hitung akar menggunakan metode bisection\n",
        "r1 = my_bisection(f, a, b, e, iterasimax=iterasimax)\n",
        "print(\"Akar =\", r1)\n",
        "print(\"f(r1) =\", f(r1))"
      ]
    }
  ]
}