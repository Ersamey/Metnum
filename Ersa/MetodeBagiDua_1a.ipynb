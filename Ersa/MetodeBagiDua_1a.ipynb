{
  "nbformat": 4,
  "nbformat_minor": 0,
  "metadata": {
    "colab": {
      "provenance": []
    },
    "kernelspec": {
      "name": "python3",
      "display_name": "Python 3"
    },
    "language_info": {
      "name": "python"
    }
  },
  "cells": [
    {
      "cell_type": "code",
      "execution_count": 1,
      "metadata": {
        "colab": {
          "base_uri": "https://localhost:8080/"
        },
        "id": "fzX98_1yboVp",
        "outputId": "dcd59563-fd12-4e69-ff43-1a746035503a"
      },
      "outputs": [
        {
          "output_type": "stream",
          "name": "stdout",
          "text": [
            "r1 = -1.6171875\n",
            "f(r1) = 0.004951953887939453\n"
          ]
        }
      ],
      "source": [
        "#fungsi penyelesaian dengan menggunakan metode Bagi Dua ketika f(x) = x^3 - 2x + 1\n",
        "\n",
        "import numpy as np #panggil library\n",
        "def my_bisection(f, a, b, e): #mendefinisikan fungsi bagi dua dengan parameter fungsi, interval a dan b, serta e sebagai toleransi galatnya\n",
        "  if np.sign(f(a)) == np.sign(f(b)): #jika f(a) dan f(b) memiliki tanda sama (+ dan +) atau (- dan -)\n",
        "    raise Exception('Tidak ada akar pada interval a dan b') #maka  tidak ada akar di interval (a dan b)\n",
        "  c = (a + b)/2 #bagi dua interval a dan b untuk mendapatkan interval baru yang lebih kecil\n",
        "  if np.abs(f(c)) < e: #jika nilai absolut f(C) kurang dari toleransi galatnya\n",
        "    return c #maka return c sebagai akar hampiran\n",
        "  elif np.sign(f(a)) == np.sign(f(c)): #jika tanda f(a) sama dengan f(c) (sama sama positif atau sama sama negatif)\n",
        "    return my_bisection(f, c, b, e) #maka jalankan kembali fungsi my_bisection mengganti a dengan c\n",
        "  elif np.sign(f(b)) == np.sign(f(c)): #jika tanda f(b) dan f(c) sama (sama sama positif atau sama sama negatif)\n",
        "    return my_bisection(f, a, c, e) #maka jalankan kembali fungsi my_bisection mengganti b dengan c\n",
        "\n",
        "f = lambda x: x**3-2*x+1 #fungsi f diisi dengan x^3-2x+1\n",
        "#r1 menampung nilai kembalian (akar hampiran) yang didapat dari fungsi my_bisection dengan interval a-b nya adalah -2 dan -1 dengan toleransi galatnya 0.01\n",
        "r1 = my_bisection(f, -2, -1, 0.01)\n",
        "print(\"r1 =\", r1)#print r1/akar hampirannya\n",
        "print(\"f(r1) =\", f(r1))#print f(r1)"
      ]
    }
  ]
}