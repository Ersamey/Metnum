{
  "cells": [
    {
      "cell_type": "code",
      "source": [
        "#No. 1 a\n",
        "import numpy as np #panggil library numpy\n",
        "f = lambda x: x**3-2*x+1\n",
        "r1 = my_bisection(f, -2, -1, 0.01)  #cari akar fungsi\n",
        "print(\"r1 =\", r1) #cetak hasil akar\n",
        "print(\"f(r1) =\", f(r1)) #cetak nilai fungsi akar"
      ],
      "metadata": {
        "id": "oK7agBKgRiB7",
        "outputId": "f73577e7-da53-4f22-9ac0-76b837afe1f8",
        "colab": {
          "base_uri": "https://localhost:8080/"
        }
      },
      "execution_count": null,
      "outputs": [
        {
          "output_type": "stream",
          "name": "stdout",
          "text": [
            "r1 = -1.6171875\n",
            "f(r1) = 0.004951953887939453\n"
          ]
        }
      ]
    },
    {
      "cell_type": "code",
      "source": [
        "#No. 1 b\n",
        "import numpy as np # panggil library numpy yang akan digunakan nanti\n",
        "\n",
        "def my_bisection(f, a, b, e):\n",
        "  if np.sign(f(a)) == np.sign(f(b)): # periksa apakah tanda dari hasil f(a) dan f(b) sama\n",
        "    raise Exception('Tidak ada akar pada interval a dan b') # jika tanda sama, maka tidak ada akar interval\n",
        "  m = (a + b)/2 # menghitung titik tengah dari interval/nilai c\n",
        "  if np.abs(f(m)) < e: # cek nilai absolut dari m/titik tengah < galat\n",
        "    return m # jika iya, ubah titik tengah menjadi akar yang ditemukan\n",
        "  elif np.sign(f(a)) == np.sign(f(m)): # jika tanda pada f(a) dan m sama\n",
        "    return my_bisection(f, m, b, e) # maka akan manggil rekursif my_bisection\n",
        "  elif np.sign(f(b)) == np.sign(f(m)): # jika tanda pada f(b) dan m sama\n",
        "    return my_bisection(f, a, m, e) # maka akan manggil rekursif my_bisection\n",
        "\n",
        "e = 2.71828182845904 #nilai dari e^-1\n",
        "f = lambda x: e**x - x\n",
        "r1 = my_bisection(f, -1, 0, 0.1) # masukan my_bisection dengan interval (-1, 0) dan galat 0.1\n",
        "print(\"r1 =\", r1) # cetak hasil akar\n",
        "print(\"f(r1) =\", f(r1)) # cetak nilai fungsi pada akar yang ditemukan\n",
        "\n",
        "r01 = my_bisection(f, -1, 0, 0.01) # Panggil my_bisection dengan interval awal (-1, 0) dan galat 0.01\n",
        "print(\"r01 =\", r01) # Cetak hasil akar yang ditemukan\n",
        "print(\"f(r01) =\", f(r01)) # Cetak nilai fungsi pada akar yang ditemukan\n"
      ],
      "metadata": {
        "id": "ATD9V9zsRnQ3",
        "outputId": "3aa1aaac-4270-4e4a-ab94-161ff628ec52",
        "colab": {
          "base_uri": "https://localhost:8080/",
          "height": 384
        }
      },
      "execution_count": null,
      "outputs": [
        {
          "output_type": "error",
          "ename": "Exception",
          "evalue": "ignored",
          "traceback": [
            "\u001b[0;31m---------------------------------------------------------------------------\u001b[0m",
            "\u001b[0;31mException\u001b[0m                                 Traceback (most recent call last)",
            "\u001b[0;32m<ipython-input-10-89110cc8b310>\u001b[0m in \u001b[0;36m<cell line: 16>\u001b[0;34m()\u001b[0m\n\u001b[1;32m     14\u001b[0m \u001b[0me\u001b[0m \u001b[0;34m=\u001b[0m \u001b[0;36m2.71828182845904\u001b[0m \u001b[0;31m#nilai dari e^-1\u001b[0m\u001b[0;34m\u001b[0m\u001b[0;34m\u001b[0m\u001b[0m\n\u001b[1;32m     15\u001b[0m \u001b[0mf\u001b[0m \u001b[0;34m=\u001b[0m \u001b[0;32mlambda\u001b[0m \u001b[0mx\u001b[0m\u001b[0;34m:\u001b[0m \u001b[0me\u001b[0m\u001b[0;34m**\u001b[0m\u001b[0mx\u001b[0m \u001b[0;34m-\u001b[0m \u001b[0mx\u001b[0m\u001b[0;34m\u001b[0m\u001b[0;34m\u001b[0m\u001b[0m\n\u001b[0;32m---> 16\u001b[0;31m \u001b[0mr1\u001b[0m \u001b[0;34m=\u001b[0m \u001b[0mmy_bisection\u001b[0m\u001b[0;34m(\u001b[0m\u001b[0mf\u001b[0m\u001b[0;34m,\u001b[0m \u001b[0;34m-\u001b[0m\u001b[0;36m1\u001b[0m\u001b[0;34m,\u001b[0m \u001b[0;36m0\u001b[0m\u001b[0;34m,\u001b[0m \u001b[0;36m0.1\u001b[0m\u001b[0;34m)\u001b[0m \u001b[0;31m# masukan my_bisection dengan interval (-1, 0) dan galat 0.1\u001b[0m\u001b[0;34m\u001b[0m\u001b[0;34m\u001b[0m\u001b[0m\n\u001b[0m\u001b[1;32m     17\u001b[0m \u001b[0mprint\u001b[0m\u001b[0;34m(\u001b[0m\u001b[0;34m\"r1 =\"\u001b[0m\u001b[0;34m,\u001b[0m \u001b[0mr1\u001b[0m\u001b[0;34m)\u001b[0m \u001b[0;31m# cetak hasil akar\u001b[0m\u001b[0;34m\u001b[0m\u001b[0;34m\u001b[0m\u001b[0m\n\u001b[1;32m     18\u001b[0m \u001b[0mprint\u001b[0m\u001b[0;34m(\u001b[0m\u001b[0;34m\"f(r1) =\"\u001b[0m\u001b[0;34m,\u001b[0m \u001b[0mf\u001b[0m\u001b[0;34m(\u001b[0m\u001b[0mr1\u001b[0m\u001b[0;34m)\u001b[0m\u001b[0;34m)\u001b[0m \u001b[0;31m# cetak nilai fungsi pada akar yang ditemukan\u001b[0m\u001b[0;34m\u001b[0m\u001b[0;34m\u001b[0m\u001b[0m\n",
            "\u001b[0;32m<ipython-input-10-89110cc8b310>\u001b[0m in \u001b[0;36mmy_bisection\u001b[0;34m(f, a, b, e)\u001b[0m\n\u001b[1;32m      3\u001b[0m \u001b[0;32mdef\u001b[0m \u001b[0mmy_bisection\u001b[0m\u001b[0;34m(\u001b[0m\u001b[0mf\u001b[0m\u001b[0;34m,\u001b[0m \u001b[0ma\u001b[0m\u001b[0;34m,\u001b[0m \u001b[0mb\u001b[0m\u001b[0;34m,\u001b[0m \u001b[0me\u001b[0m\u001b[0;34m)\u001b[0m\u001b[0;34m:\u001b[0m\u001b[0;34m\u001b[0m\u001b[0;34m\u001b[0m\u001b[0m\n\u001b[1;32m      4\u001b[0m   \u001b[0;32mif\u001b[0m \u001b[0mnp\u001b[0m\u001b[0;34m.\u001b[0m\u001b[0msign\u001b[0m\u001b[0;34m(\u001b[0m\u001b[0mf\u001b[0m\u001b[0;34m(\u001b[0m\u001b[0ma\u001b[0m\u001b[0;34m)\u001b[0m\u001b[0;34m)\u001b[0m \u001b[0;34m==\u001b[0m \u001b[0mnp\u001b[0m\u001b[0;34m.\u001b[0m\u001b[0msign\u001b[0m\u001b[0;34m(\u001b[0m\u001b[0mf\u001b[0m\u001b[0;34m(\u001b[0m\u001b[0mb\u001b[0m\u001b[0;34m)\u001b[0m\u001b[0;34m)\u001b[0m\u001b[0;34m:\u001b[0m \u001b[0;31m# periksa apakah tanda dari hasil f(a) dan f(b) sama\u001b[0m\u001b[0;34m\u001b[0m\u001b[0;34m\u001b[0m\u001b[0m\n\u001b[0;32m----> 5\u001b[0;31m     \u001b[0;32mraise\u001b[0m \u001b[0mException\u001b[0m\u001b[0;34m(\u001b[0m\u001b[0;34m'Tidak ada akar pada interval a dan b'\u001b[0m\u001b[0;34m)\u001b[0m \u001b[0;31m# jika tanda sama, maka tidak ada akar interval\u001b[0m\u001b[0;34m\u001b[0m\u001b[0;34m\u001b[0m\u001b[0m\n\u001b[0m\u001b[1;32m      6\u001b[0m   \u001b[0mm\u001b[0m \u001b[0;34m=\u001b[0m \u001b[0;34m(\u001b[0m\u001b[0ma\u001b[0m \u001b[0;34m+\u001b[0m \u001b[0mb\u001b[0m\u001b[0;34m)\u001b[0m\u001b[0;34m/\u001b[0m\u001b[0;36m2\u001b[0m \u001b[0;31m# menghitung titik tengah dari interval/nilai c\u001b[0m\u001b[0;34m\u001b[0m\u001b[0;34m\u001b[0m\u001b[0m\n\u001b[1;32m      7\u001b[0m   \u001b[0;32mif\u001b[0m \u001b[0mnp\u001b[0m\u001b[0;34m.\u001b[0m\u001b[0mabs\u001b[0m\u001b[0;34m(\u001b[0m\u001b[0mf\u001b[0m\u001b[0;34m(\u001b[0m\u001b[0mm\u001b[0m\u001b[0;34m)\u001b[0m\u001b[0;34m)\u001b[0m \u001b[0;34m<\u001b[0m \u001b[0me\u001b[0m\u001b[0;34m:\u001b[0m \u001b[0;31m# cek nilai absolut dari m/titik tengah < galat\u001b[0m\u001b[0;34m\u001b[0m\u001b[0;34m\u001b[0m\u001b[0m\n",
            "\u001b[0;31mException\u001b[0m: Tidak ada akar pada interval a dan b"
          ]
        }
      ]
    }
  ],
  "metadata": {
    "colab": {
      "provenance": []
    },
    "kernelspec": {
      "display_name": "Python 3",
      "name": "python3"
    }
  },
  "nbformat": 4,
  "nbformat_minor": 0
}