{
  "cells": [
    {
      "cell_type": "markdown",
      "source": [
        "# Metode Trapesium\n"
      ],
      "metadata": {
        "id": "qH8S73hPeAB4"
      }
    },
    {
      "cell_type": "markdown",
      "source": [
        "Menghitung Integral dengan Metode Trapesium"
      ],
      "metadata": {
        "id": "BWgLyoe-dv0z"
      }
    },
    {
      "cell_type": "code",
      "source": [
        "def trapesium(a, b, n, f):\n",
        "    h = (b - a) / n  # Lebar pias, hasil dari pembagian selisih batas atas dan batas bawah dengan jumlah interval\n",
        "    print(\"Lebar pias (h):\", h)\n",
        "    x = a  # Titik awal selang integrasi\n",
        "    I = f(a) + f(b)\n",
        "    print(\"f(a) + f(b):\", I)  # Jumlah awal nilai fungsi pada batas bawah dan batas atas\n",
        "    sigma = 0\n",
        "\n",
        "    for _ in range(1, n):\n",
        "        x = x + h\n",
        "        print(\"Nilai x ke-\", _, \":\", x)  # Menampilkan nilai x pada setiap iterasi\n",
        "        sigma = sigma + 2 * f(x)  # Akumulasi nilai fungsi dengan bobot 2 pada setiap iterasi\n",
        "\n",
        "    I = (I + sigma) * h / 2  # Nilai integrasi numerik menggunakan metode trapesium\n",
        "    return I\n",
        "\n",
        "a = float(input(\"Masukkan batas bawah integral (a): \"))  # Input batas bawah integral yang diinginkan\n",
        "b = float(input(\"Masukkan batas atas integral (b): \"))  # Input batas atas integral yang diinginkan\n",
        "n = int(input(\"Masukkan banyak interval (n): \"))  # Input jumlah interval untuk perhitungan integral\n",
        "\n",
        "expression = input(\"Masukkan fungsi f(x): \")  # Input fungsi matematika sebagai string\n",
        "f = lambda x: eval(expression)  # Mengubah string fungsi menjadi fungsi yang dapat dievaluasi\n",
        "\n",
        "result = trapesium(a, b, n, f)  # Memanggil fungsi trapesium untuk menghitung integral numerik\n",
        "print(\"Hasil integral numerik dengan metode trapesium:\", result)  # Menampilkan hasil integral numerik\n"
      ],
      "metadata": {
        "id": "izYrGJHzdEJA"
      },
      "execution_count": null,
      "outputs": []
    },
    {
      "cell_type": "markdown",
      "source": [
        "# Metode Simpson 1/3"
      ],
      "metadata": {
        "id": "AdvPMpDXd7m1"
      }
    },
    {
      "cell_type": "markdown",
      "source": [
        "Menghitung Integral menggunakan Metode Simpson 1/3"
      ],
      "metadata": {
        "id": "hK6M9dKabRX4"
      }
    },
    {
      "cell_type": "code",
      "source": [
        "def simpson_satupertiga(a, b, n, f):\n",
        "    h = (b - a) / n\n",
        "    print(\"Lebar pias (h):\", h)  # Menampilkan lebar pias sebagai hasil pembagian selisih batas atas dan batas bawah dengan jumlah interval\n",
        "    integral = f(a) + f(b)\n",
        "\n",
        "    for i in range(1, n):\n",
        "        x = a + i * h\n",
        "        if i % 2 == 0:\n",
        "            integral += 2 * f(x)  # Kalau i adalah genap, maka nilai fungsi f(x) akan dikalikan dengan 2\n",
        "        else:\n",
        "            integral += 4 * f(x)  # Tapi, kalau i adalah ganjil, maka nilai fungsi f(x) akan dikalikan dengan 4\n",
        "\n",
        "    integral *= h / 3\n",
        "    return integral\n",
        "\n",
        "a = float(input(\"Masukkan berapa batas bawah integral (a): \"))  # Input batas bawah integral yang diinginkan\n",
        "b = float(input(\"Masukkan berapa batas atas integral (b): \"))  # Input batas atas integral yang diinginkan\n",
        "n = int(input(\"Masukkan berapa banyak interval (n): \"))  # Input jumlah interval untuk perhitungan integral\n",
        "\n",
        "expression = input(\"Masukkan fungsi f(x): \")  # Input fungsi matematika sebagai string\n",
        "f = lambda x: eval(expression)  # Mengubah string fungsi menjadi fungsi yang dapat dievaluasi\n",
        "\n",
        "hasil_integral = simpson_satupertiga(a, b, n, f)\n",
        "hasil_rounded = round(hasil_integral, 3)  # Bulatkan hasil integral menjadi tiga angka di belakang koma\n",
        "\n",
        "# Membuat tabel untuk nilai x dan nilai fungsi f(x) pada titik-titik di dalam rentang [a, b]\n",
        "print(\"\\nTabel Nilai x dan f(x) pada Rentang [{}, {}]:\".format(a, b))\n",
        "print(\"-\" * 30)\n",
        "print(\"{:<10} {:<10}\".format(\"Nilai x\", \"Nilai f(x)\"))  # Print judul nilai x dan nilai f(x) dalam format tabel\n",
        "print(\"-\" * 30)\n",
        "h = (b - a) / n  # Hitung ulang lebar interval berdasarkan batas atas, batas bawah, dan jumlah interval\n",
        "for i in range(n + 1):\n",
        "    x = i * h  # Hitung nilai x untuk setiap titik dalam rentang [a, b]\n",
        "    nilai_f_x = f(x)\n",
        "    print(\"{:<10.3f} {:<10.3f}\".format(x, nilai_f_x))  # Print nilai x dan f(x) dalam format tabel\n",
        "\n",
        "# Menampilkan hasil integral dengan Metode Simpson 1/3 yang telah dihitung, dibulatkan menjadi 3 angka di belakang koma\n",
        "print(\"\\nHasil Simpson 1/3: {:.3f}\".format(hasil_rounded))\n"
      ],
      "metadata": {
        "id": "ejF2P360Yly6"
      },
      "execution_count": null,
      "outputs": []
    },
    {
      "cell_type": "markdown",
      "source": [
        "# Metode Titik Tengah"
      ],
      "metadata": {
        "id": "r7wkBSnleLJ3"
      }
    },
    {
      "cell_type": "markdown",
      "metadata": {
        "id": "Nma_JWh-W-IF"
      },
      "source": [
        "Menghitung Integral menggunakan Metode Titik Tengah"
      ]
    },
    {
      "cell_type": "code",
      "source": [
        "# Membuat fungsi titik_tengah untuk menghitung integral (metode titik tengah)\n",
        "def titik_tengah(a, b, n, f):\n",
        "    h = (b - a) / n  # Menghitung (h) berdasarkan batas bawah, batas atas, dan jumlah interval\n",
        "    print(\"Lebar pias (h):\", h)  # Menampilkan lebar pias (h)\n",
        "    integral = 0\n",
        "\n",
        "    # Iterasi melalui tiap subinterval dan menghitung integral\n",
        "    for i in range(n):\n",
        "        titik_tengah = a + (h / 2) + i * h  # Menghitung titik tengah dari setiap subinterval\n",
        "        integral += f(titik_tengah)  # Menambahkan nilai fungsi pada titik tengah subinterval ke integral\n",
        "\n",
        "    integral *= h  # Mengalikan hasil dengan lebar pias (h) untuk mendapatkan nilai integral\n",
        "    return integral\n",
        "\n",
        "# Meminta input untuk batas bawah, batas atas, jumlah interval, dan fungsi f(x)\n",
        "a = float(input(\"Berapa batas bawah integral (a): \"))  # Input batas bawah integral, contoh: 0\n",
        "b = float(input(\"Berapa batas atas integral (b): \"))  # Input batas atas integral, contoh: 1\n",
        "n = int(input(\"Berapa banyak interval (n): \"))  # Banyaknya interval, contoh: 8\n",
        "expression = input(\"Masukkan fungsi f(x): \")  # Input fungsi, contoh: 1/(1+x)\n",
        "f = lambda x: eval(expression)  # Membuat fungsi lambda untuk evaluasi ekspresi matematika\n",
        "\n",
        "# Menggunakan fungsi titik_tengah untuk menghitung integral\n",
        "hasil_integral = titik_tengah(a, b, n, f)\n",
        "hasil_rounded = round(hasil_integral, 3)  # Bulatkan hasil integral ke tiga angka di belakang koma\n",
        "\n",
        "# Membuat tabel untuk nilai x dan nilai fungsi f(x) pada titik-titik di dalam rentang [a, b]\n",
        "print(\"\\nTabel Nilai x dan f(x) pada Rentang [{}, {}]:\".format(a, b))\n",
        "print(\"-\" * 30)\n",
        "print(\"{:<10} {:<10}\".format(\"Nilai x\", \"Nilai f(x)\"))  # Print judul nilai x dan nilai f(x)\n",
        "print(\"-\" * 30)\n",
        "h = (b - a) / n  # Hitung ulang lebar pias (h) sesuai batas bawah, batas atas, dan jumlah interval\n",
        "\n",
        "# Mengisi tabel dengan nilai x dan nilai fungsi f(x) pada titik-titik di dalam rentang [a, b]\n",
        "for i in range(n):\n",
        "    titik_tengah = a + (h / 2) + i * h  # Hitung nilai x titik tengah berdasarkan interval\n",
        "    nilai_f_x = f(titik_tengah)\n",
        "    print(\"{:<10.3f} {:<10.3f}\".format(titik_tengah, nilai_f_x))  # Print nilai hasil x dan f(x)\n",
        "\n",
        "# Menampilkan hasil integral numerik menggunakan metode titik tengah\n",
        "print(\"\\nHasil Hitung Menggunakan Integral Titik Tengah: {:.3f}\".format(hasil_rounded))\n"
      ],
      "metadata": {
        "id": "LFEyd5HZYB5G",
        "outputId": "f12bf34e-d8be-40da-82fe-2132d1f93150",
        "colab": {
          "base_uri": "https://localhost:8080/"
        }
      },
      "execution_count": null,
      "outputs": [
        {
          "output_type": "stream",
          "name": "stdout",
          "text": [
            "Masukkan batas bawah integral (a): 0\n",
            "Masukkan batas atas integral (b): 1\n",
            "Masukkan banyak interval (n): 8\n",
            "Masukkan fungsi f(x): 1/(1+x)\n",
            "Lebar pias (h): 0.125\n",
            "\n",
            "Tabel Nilai x dan f(x) pada Rentang [0.0, 1.0]:\n",
            "------------------------------\n",
            "Nilai x    Nilai f(x)\n",
            "------------------------------\n",
            "0.062      0.941     \n",
            "0.188      0.842     \n",
            "0.312      0.762     \n",
            "0.438      0.696     \n",
            "0.562      0.640     \n",
            "0.688      0.593     \n",
            "0.812      0.552     \n",
            "0.938      0.516     \n",
            "\n",
            "Hasil Integral Titik Tengah: 0.693\n"
          ]
        }
      ]
    }
  ],
  "metadata": {
    "colab": {
      "provenance": []
    },
    "kernelspec": {
      "display_name": "Python 3",
      "name": "python3"
    }
  },
  "nbformat": 4,
  "nbformat_minor": 0
}